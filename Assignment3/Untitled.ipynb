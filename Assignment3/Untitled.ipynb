{
 "cells": [
  {
   "cell_type": "code",
   "execution_count": 1,
   "metadata": {},
   "outputs": [],
   "source": [
    "import matplotlib.pyplot as plt\n",
    "import pandas as pd\n",
    "import seaborn as sns\n",
    "from numpy import mean\n",
    "\n",
    "%matplotlib inline\n"
   ]
  },
  {
   "cell_type": "code",
   "execution_count": 3,
   "metadata": {},
   "outputs": [
    {
     "data": {
      "text/html": [
       "<div>\n",
       "<style scoped>\n",
       "    .dataframe tbody tr th:only-of-type {\n",
       "        vertical-align: middle;\n",
       "    }\n",
       "\n",
       "    .dataframe tbody tr th {\n",
       "        vertical-align: top;\n",
       "    }\n",
       "\n",
       "    .dataframe thead th {\n",
       "        text-align: right;\n",
       "    }\n",
       "</style>\n",
       "<table border=\"1\" class=\"dataframe\">\n",
       "  <thead>\n",
       "    <tr style=\"text-align: right;\">\n",
       "      <th>year</th>\n",
       "      <th>1952</th>\n",
       "      <th>1957</th>\n",
       "      <th>1962</th>\n",
       "      <th>1967</th>\n",
       "      <th>1972</th>\n",
       "      <th>1977</th>\n",
       "      <th>1982</th>\n",
       "      <th>1987</th>\n",
       "      <th>1992</th>\n",
       "      <th>1997</th>\n",
       "      <th>2002</th>\n",
       "      <th>2007</th>\n",
       "    </tr>\n",
       "    <tr>\n",
       "      <th>continent</th>\n",
       "      <th></th>\n",
       "      <th></th>\n",
       "      <th></th>\n",
       "      <th></th>\n",
       "      <th></th>\n",
       "      <th></th>\n",
       "      <th></th>\n",
       "      <th></th>\n",
       "      <th></th>\n",
       "      <th></th>\n",
       "      <th></th>\n",
       "      <th></th>\n",
       "    </tr>\n",
       "  </thead>\n",
       "  <tbody>\n",
       "    <tr>\n",
       "      <th>Africa</th>\n",
       "      <td>39.074039</td>\n",
       "      <td>41.199294</td>\n",
       "      <td>43.228667</td>\n",
       "      <td>45.230235</td>\n",
       "      <td>47.331176</td>\n",
       "      <td>49.451510</td>\n",
       "      <td>51.452216</td>\n",
       "      <td>53.227255</td>\n",
       "      <td>53.518686</td>\n",
       "      <td>53.582412</td>\n",
       "      <td>53.370980</td>\n",
       "      <td>54.819686</td>\n",
       "    </tr>\n",
       "    <tr>\n",
       "      <th>Americas</th>\n",
       "      <td>53.061083</td>\n",
       "      <td>55.683208</td>\n",
       "      <td>58.098292</td>\n",
       "      <td>60.115125</td>\n",
       "      <td>62.119708</td>\n",
       "      <td>64.153292</td>\n",
       "      <td>66.021292</td>\n",
       "      <td>67.937417</td>\n",
       "      <td>69.476792</td>\n",
       "      <td>71.104167</td>\n",
       "      <td>72.437667</td>\n",
       "      <td>73.651500</td>\n",
       "    </tr>\n",
       "    <tr>\n",
       "      <th>Asia</th>\n",
       "      <td>45.594083</td>\n",
       "      <td>47.878520</td>\n",
       "      <td>49.949450</td>\n",
       "      <td>53.145570</td>\n",
       "      <td>55.622821</td>\n",
       "      <td>57.696711</td>\n",
       "      <td>61.087261</td>\n",
       "      <td>63.326913</td>\n",
       "      <td>65.369261</td>\n",
       "      <td>67.231667</td>\n",
       "      <td>68.568250</td>\n",
       "      <td>70.116458</td>\n",
       "    </tr>\n",
       "    <tr>\n",
       "      <th>Europe</th>\n",
       "      <td>63.957115</td>\n",
       "      <td>66.327000</td>\n",
       "      <td>68.269500</td>\n",
       "      <td>69.490692</td>\n",
       "      <td>70.598500</td>\n",
       "      <td>71.790885</td>\n",
       "      <td>72.682000</td>\n",
       "      <td>73.525962</td>\n",
       "      <td>74.321385</td>\n",
       "      <td>75.393192</td>\n",
       "      <td>76.534808</td>\n",
       "      <td>77.497385</td>\n",
       "    </tr>\n",
       "    <tr>\n",
       "      <th>Oceania</th>\n",
       "      <td>69.255000</td>\n",
       "      <td>70.295000</td>\n",
       "      <td>71.085000</td>\n",
       "      <td>71.310000</td>\n",
       "      <td>71.910000</td>\n",
       "      <td>72.855000</td>\n",
       "      <td>74.290000</td>\n",
       "      <td>75.320000</td>\n",
       "      <td>76.945000</td>\n",
       "      <td>78.190000</td>\n",
       "      <td>79.740000</td>\n",
       "      <td>80.719500</td>\n",
       "    </tr>\n",
       "  </tbody>\n",
       "</table>\n",
       "</div>"
      ],
      "text/plain": [
       "year            1952       1957       1962       1967       1972       1977  \\\n",
       "continent                                                                     \n",
       "Africa     39.074039  41.199294  43.228667  45.230235  47.331176  49.451510   \n",
       "Americas   53.061083  55.683208  58.098292  60.115125  62.119708  64.153292   \n",
       "Asia       45.594083  47.878520  49.949450  53.145570  55.622821  57.696711   \n",
       "Europe     63.957115  66.327000  68.269500  69.490692  70.598500  71.790885   \n",
       "Oceania    69.255000  70.295000  71.085000  71.310000  71.910000  72.855000   \n",
       "\n",
       "year            1982       1987       1992       1997       2002       2007  \n",
       "continent                                                                    \n",
       "Africa     51.452216  53.227255  53.518686  53.582412  53.370980  54.819686  \n",
       "Americas   66.021292  67.937417  69.476792  71.104167  72.437667  73.651500  \n",
       "Asia       61.087261  63.326913  65.369261  67.231667  68.568250  70.116458  \n",
       "Europe     72.682000  73.525962  74.321385  75.393192  76.534808  77.497385  \n",
       "Oceania    74.290000  75.320000  76.945000  78.190000  79.740000  80.719500  "
      ]
     },
     "execution_count": 3,
     "metadata": {},
     "output_type": "execute_result"
    }
   ],
   "source": [
    "df = pd.read_csv('gapminder-FiveYearData.txt')\n",
    "pivot_table = pd.pivot_table(df,values='lifeExp',index='continent',columns='year')\n",
    "pivot_table"
   ]
  },
  {
   "cell_type": "code",
   "execution_count": 9,
   "metadata": {},
   "outputs": [
    {
     "data": {
      "text/plain": [
       "<matplotlib.axes._subplots.AxesSubplot at 0xa94c589148>"
      ]
     },
     "execution_count": 9,
     "metadata": {},
     "output_type": "execute_result"
    },
    {
     "data": {
      "image/png": "[encoded data removed]",
      "text/plain": [
       "<Figure size 648x432 with 2 Axes>"
      ]
     },
     "metadata": {
      "needs_background": "light"
     },
     "output_type": "display_data"
    }
   ],
   "source": [
    "plt.figure(figsize=(9,6))\n",
    "sns.heatmap(pivot_table,annot=True,linewidth=0.5,cmap='RdYlBu')"
   ]
  },
  {
   "cell_type": "code",
   "execution_count": null,
   "metadata": {},
   "outputs": [],
   "source": []
  }
 ],
 "metadata": {
  "kernelspec": {
   "display_name": "Python 3",
   "language": "python",
   "name": "python3"
  },
  "language_info": {
   "codemirror_mode": {
    "name": "ipython",
    "version": 3
   },
   "file_extension": ".py",
   "mimetype": "text/x-python",
   "name": "python",
   "nbconvert_exporter": "python",
   "pygments_lexer": "ipython3",
   "version": "3.7.6"
  }
 },
 "nbformat": 4,
 "nbformat_minor": 4
}
