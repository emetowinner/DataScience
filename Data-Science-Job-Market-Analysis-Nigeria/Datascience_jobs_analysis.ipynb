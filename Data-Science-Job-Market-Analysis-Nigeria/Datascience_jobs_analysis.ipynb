{
 "cells": [
  {
   "cell_type": "markdown",
   "metadata": {},
   "source": [
    "# DATA SCIENCE JOB MARKET ANALYSIS"
   ]
  },
  {
   "cell_type": "markdown",
   "metadata": {},
   "source": [
    "## 1. Web Scraping using Selenium"
   ]
  },
  {
   "cell_type": "code",
   "execution_count": 1,
   "metadata": {},
   "outputs": [],
   "source": [
    "#import necessary packages\n",
    "import time\n",
    "from selenium import webdriver\n",
    "import pandas as pd\n",
    "import matplotlib.pyplot as plt\n",
    "#create an instance of browser\n",
    "driver = webdriver.Chrome()\n"
   ]
  },
  {
   "cell_type": "code",
   "execution_count": 2,
   "metadata": {},
   "outputs": [],
   "source": [
    "#creating a dictionary for storing the information after scraping\n",
    "jobs={\"Roles\":[],\n",
    "     \"Companies\":[],\n",
    "     \"Locations\":[],\n",
    "     \"Requirements\":[]}"
   ]
  },
  {
   "cell_type": "code",
   "execution_count": 60,
   "metadata": {},
   "outputs": [],
   "source": [
    "#iterate over first 30 pages; each page contains 20 results\n",
    "#for each job we will scrape the role,company, location, and requirements\n",
    "for i in range(500):\n",
    "    driver.get(\"https://ng.indeed.com/jobs?q=Data+Sciences&l=Nigeria&start={}\".format(i*10))\n",
    "    time.sleep(3)\n",
    "    lst=driver.find_elements_by_css_selector(\".jobsearch-SerpJobCard.unifiedRow.row.result.clickcard\")\n",
    "    \n",
    "    for job in lst:\n",
    "        driver.implicitly_wait(10)\n",
    "        \n",
    "        try: \n",
    "            company = job.find_element_by_css_selector(\".company\").text\n",
    "        except:\n",
    "            company = \"Null\"\n",
    "            \n",
    "        role = job.find_element_by_css_selector(\"a.jobtitle.turnstileLink \").text\n",
    "        location = job.find_element_by_css_selector(\"span.location.accessible-contrast-color-location\").text\n",
    "        requirement = job.find_element_by_css_selector(\".summary\").text\n",
    "        \n",
    "        jobs[\"Roles\"].append(role)\n",
    "        jobs[\"Companies\"].append(company)\n",
    "        jobs[\"Locations\"].append(location)\n",
    "        jobs[\"Requirements\"].append(requirement)"
   ]
  },
  {
   "cell_type": "code",
   "execution_count": 59,
   "metadata": {
    "scrolled": true
   },
   "outputs": [
    {
     "data": {
      "text/html": [
       "<div>\n",
       "<style scoped>\n",
       "    .dataframe tbody tr th:only-of-type {\n",
       "        vertical-align: middle;\n",
       "    }\n",
       "\n",
       "    .dataframe tbody tr th {\n",
       "        vertical-align: top;\n",
       "    }\n",
       "\n",
       "    .dataframe thead th {\n",
       "        text-align: right;\n",
       "    }\n",
       "</style>\n",
       "<table border=\"1\" class=\"dataframe\">\n",
       "  <thead>\n",
       "    <tr style=\"text-align: right;\">\n",
       "      <th></th>\n",
       "      <th>Roles</th>\n",
       "      <th>Companies</th>\n",
       "      <th>Locations</th>\n",
       "      <th>Requirements</th>\n",
       "    </tr>\n",
       "  </thead>\n",
       "  <tbody>\n",
       "    <tr>\n",
       "      <th>0</th>\n",
       "      <td>Data Verifier</td>\n",
       "      <td>TechnoServe</td>\n",
       "      <td>Nigeria</td>\n",
       "      <td>Perform first-level data cleaning and data ver...</td>\n",
       "    </tr>\n",
       "    <tr>\n",
       "      <th>1</th>\n",
       "      <td>Data Scientist</td>\n",
       "      <td>Softcom LTD</td>\n",
       "      <td>Ikeja</td>\n",
       "      <td>A minimum of 2 years of data science and analy...</td>\n",
       "    </tr>\n",
       "    <tr>\n",
       "      <th>2</th>\n",
       "      <td>Research Assistant</td>\n",
       "      <td>TechnoServe</td>\n",
       "      <td>Nigeria</td>\n",
       "      <td>Design data points for data collection especia...</td>\n",
       "    </tr>\n",
       "    <tr>\n",
       "      <th>3</th>\n",
       "      <td>Part Time Teaching Assistant</td>\n",
       "      <td>The Gradient Boost</td>\n",
       "      <td>Lagos</td>\n",
       "      <td>We currently offer a 4 month Introduction to D...</td>\n",
       "    </tr>\n",
       "    <tr>\n",
       "      <th>4</th>\n",
       "      <td>Human Resource Assistant</td>\n",
       "      <td>TechnoServe</td>\n",
       "      <td>Nigeria</td>\n",
       "      <td>Maintain staff training data, coordinate train...</td>\n",
       "    </tr>\n",
       "    <tr>\n",
       "      <th>...</th>\n",
       "      <td>...</td>\n",
       "      <td>...</td>\n",
       "      <td>...</td>\n",
       "      <td>...</td>\n",
       "    </tr>\n",
       "    <tr>\n",
       "      <th>7388</th>\n",
       "      <td>Human Resources Officer at The Chartered Insti...</td>\n",
       "      <td>careersome</td>\n",
       "      <td>Lagos</td>\n",
       "      <td>Manage employee records and data administratio...</td>\n",
       "    </tr>\n",
       "    <tr>\n",
       "      <th>7389</th>\n",
       "      <td>Sales Representative at Lorache Limited - Jos,...</td>\n",
       "      <td>careersome</td>\n",
       "      <td>Jos</td>\n",
       "      <td>Bachelor of Arts or sciences degree;\\nWe seek ...</td>\n",
       "    </tr>\n",
       "    <tr>\n",
       "      <th>7390</th>\n",
       "      <td>Android/iOS and API Developer at GVA Partners</td>\n",
       "      <td>careersome</td>\n",
       "      <td>Lagos</td>\n",
       "      <td>BSc/BA in Computer Science, Engineering or a r...</td>\n",
       "    </tr>\n",
       "    <tr>\n",
       "      <th>7391</th>\n",
       "      <td>Android /Java Developer at Access Solutions</td>\n",
       "      <td>careersome</td>\n",
       "      <td>Abuja</td>\n",
       "      <td>A Bachelor's degree or its equivalent in Compu...</td>\n",
       "    </tr>\n",
       "    <tr>\n",
       "      <th>7392</th>\n",
       "      <td>DevOps (Kubernetes - onsite Singapore)</td>\n",
       "      <td>NEXLE CORPORATION</td>\n",
       "      <td>Lau</td>\n",
       "      <td>BS in Computer Science, or equivalent.\\nHelp t...</td>\n",
       "    </tr>\n",
       "  </tbody>\n",
       "</table>\n",
       "<p>7393 rows × 4 columns</p>\n",
       "</div>"
      ],
      "text/plain": [
       "                                                  Roles           Companies  \\\n",
       "0                                         Data Verifier         TechnoServe   \n",
       "1                                        Data Scientist         Softcom LTD   \n",
       "2                                    Research Assistant         TechnoServe   \n",
       "3                          Part Time Teaching Assistant  The Gradient Boost   \n",
       "4                              Human Resource Assistant         TechnoServe   \n",
       "...                                                 ...                 ...   \n",
       "7388  Human Resources Officer at The Chartered Insti...          careersome   \n",
       "7389  Sales Representative at Lorache Limited - Jos,...          careersome   \n",
       "7390      Android/iOS and API Developer at GVA Partners          careersome   \n",
       "7391        Android /Java Developer at Access Solutions          careersome   \n",
       "7392             DevOps (Kubernetes - onsite Singapore)   NEXLE CORPORATION   \n",
       "\n",
       "     Locations                                       Requirements  \n",
       "0      Nigeria  Perform first-level data cleaning and data ver...  \n",
       "1        Ikeja  A minimum of 2 years of data science and analy...  \n",
       "2      Nigeria  Design data points for data collection especia...  \n",
       "3        Lagos  We currently offer a 4 month Introduction to D...  \n",
       "4      Nigeria  Maintain staff training data, coordinate train...  \n",
       "...        ...                                                ...  \n",
       "7388     Lagos  Manage employee records and data administratio...  \n",
       "7389       Jos  Bachelor of Arts or sciences degree;\\nWe seek ...  \n",
       "7390     Lagos  BSc/BA in Computer Science, Engineering or a r...  \n",
       "7391     Abuja  A Bachelor's degree or its equivalent in Compu...  \n",
       "7392       Lau  BS in Computer Science, or equivalent.\\nHelp t...  \n",
       "\n",
       "[7393 rows x 4 columns]"
      ]
     },
     "execution_count": 59,
     "metadata": {},
     "output_type": "execute_result"
    }
   ],
   "source": [
    "import pandas as pd\n",
    "DS_jobs_df=pd.DataFrame(jobs)\n",
    "# DS_jobs_df.to_csv(\"DataScience_jobs.csv\")\n",
    "DS_jobs_df"
   ]
  },
  {
   "cell_type": "code",
   "execution_count": 39,
   "metadata": {},
   "outputs": [],
   "source": [
    "roles = DS_jobs_df['Roles']\n",
    "companies = DS_jobs_df['Companies']\n",
    "locations = DS_jobs_df['Locations']\n",
    "requirements = DS_jobs_df['Requirements']\n",
    "\n",
    "role1 = []\n",
    "company1 = []\n",
    "location1 = []\n",
    "requirement1 = []\n",
    "index = 0\n",
    "for role in roles:\n",
    "    if ('data' in role) or ('Data' in role):\n",
    "        role1.append(roles[index])\n",
    "        company1.append(companies[index])\n",
    "        location1.append(locations[index])\n",
    "        requirement1.append(requirements[index])\n",
    "    index += 1\n",
    "    \n",
    "        \n",
    "DS_jobs_df = pd.DataFrame(list(zip(role1,company1,location1,requirement1)),columns = ['Roles','Companies','Locations','Requirements'])\n",
    "DS_jobs_df.to_csv(\"DataScience-Main_jobs.csv\")\n",
    "DS_jobs_df"
   ]
  },
  {
   "cell_type": "markdown",
   "metadata": {},
   "source": [
    "## 2. Pre-processing"
   ]
  },
  {
   "cell_type": "code",
   "execution_count": 41,
   "metadata": {},
   "outputs": [
    {
     "data": {
      "text/html": [
       "<div>\n",
       "<style scoped>\n",
       "    .dataframe tbody tr th:only-of-type {\n",
       "        vertical-align: middle;\n",
       "    }\n",
       "\n",
       "    .dataframe tbody tr th {\n",
       "        vertical-align: top;\n",
       "    }\n",
       "\n",
       "    .dataframe thead th {\n",
       "        text-align: right;\n",
       "    }\n",
       "</style>\n",
       "<table border=\"1\" class=\"dataframe\">\n",
       "  <thead>\n",
       "    <tr style=\"text-align: right;\">\n",
       "      <th></th>\n",
       "      <th>Roles</th>\n",
       "      <th>Companies</th>\n",
       "      <th>Locations</th>\n",
       "      <th>Requirements</th>\n",
       "    </tr>\n",
       "  </thead>\n",
       "  <tbody>\n",
       "    <tr>\n",
       "      <th>763</th>\n",
       "      <td>I.T Support Engineer at Sunnet Systems and Dat...</td>\n",
       "      <td>careersome</td>\n",
       "      <td>Lagos</td>\n",
       "      <td>Performing disaster recovery operations and da...</td>\n",
       "    </tr>\n",
       "    <tr>\n",
       "      <th>764</th>\n",
       "      <td>I.T Support Engineer at Sunnet Systems and Dat...</td>\n",
       "      <td>careersome</td>\n",
       "      <td>Lagos</td>\n",
       "      <td>Performing disaster recovery operations and da...</td>\n",
       "    </tr>\n",
       "    <tr>\n",
       "      <th>765</th>\n",
       "      <td>I.T Support Engineer at Sunnet Systems and Dat...</td>\n",
       "      <td>careersome</td>\n",
       "      <td>Lagos</td>\n",
       "      <td>Performing disaster recovery operations and da...</td>\n",
       "    </tr>\n",
       "    <tr>\n",
       "      <th>766</th>\n",
       "      <td>I.T Support Engineer at Sunnet Systems and Dat...</td>\n",
       "      <td>careersome</td>\n",
       "      <td>Lagos</td>\n",
       "      <td>Performing disaster recovery operations and da...</td>\n",
       "    </tr>\n",
       "    <tr>\n",
       "      <th>767</th>\n",
       "      <td>I.T Support Engineer at Sunnet Systems and Dat...</td>\n",
       "      <td>careersome</td>\n",
       "      <td>Lagos</td>\n",
       "      <td>Performing disaster recovery operations and da...</td>\n",
       "    </tr>\n",
       "  </tbody>\n",
       "</table>\n",
       "</div>"
      ],
      "text/plain": [
       "                                                 Roles   Companies Locations  \\\n",
       "763  I.T Support Engineer at Sunnet Systems and Dat...  careersome     Lagos   \n",
       "764  I.T Support Engineer at Sunnet Systems and Dat...  careersome     Lagos   \n",
       "765  I.T Support Engineer at Sunnet Systems and Dat...  careersome     Lagos   \n",
       "766  I.T Support Engineer at Sunnet Systems and Dat...  careersome     Lagos   \n",
       "767  I.T Support Engineer at Sunnet Systems and Dat...  careersome     Lagos   \n",
       "\n",
       "                                          Requirements  \n",
       "763  Performing disaster recovery operations and da...  \n",
       "764  Performing disaster recovery operations and da...  \n",
       "765  Performing disaster recovery operations and da...  \n",
       "766  Performing disaster recovery operations and da...  \n",
       "767  Performing disaster recovery operations and da...  "
      ]
     },
     "execution_count": 41,
     "metadata": {},
     "output_type": "execute_result"
    }
   ],
   "source": [
    "DS_jobs_df=pd.read_csv(\"DataScience-Main_jobs.csv\", index_col=0)\n",
    "DS_jobs_df.tail(5)"
   ]
  },
  {
   "cell_type": "code",
   "execution_count": 42,
   "metadata": {},
   "outputs": [
    {
     "data": {
      "text/plain": [
       "Roles           0\n",
       "Companies       0\n",
       "Locations       0\n",
       "Requirements    0\n",
       "dtype: int64"
      ]
     },
     "execution_count": 42,
     "metadata": {},
     "output_type": "execute_result"
    }
   ],
   "source": [
    "#lets check if our data have any null values\n",
    "DS_jobs_df.isna().sum()"
   ]
  },
  {
   "cell_type": "code",
   "execution_count": 26,
   "metadata": {},
   "outputs": [],
   "source": [
    "# Drop the missing values if any\n",
    "# DS_jobs_df=DS_jobs_df.dropna()"
   ]
  },
  {
   "cell_type": "code",
   "execution_count": 44,
   "metadata": {
    "scrolled": true
   },
   "outputs": [
    {
     "data": {
      "text/plain": [
       "(712, 4)"
      ]
     },
     "execution_count": 44,
     "metadata": {},
     "output_type": "execute_result"
    }
   ],
   "source": [
    "#lets check if our data have any dupplicate data\n",
    "DS_jobs_df[DS_jobs_df.duplicated(subset=['Roles','Companies','Locations','Requirements'])].shape"
   ]
  },
  {
   "cell_type": "code",
   "execution_count": 45,
   "metadata": {},
   "outputs": [
    {
     "name": "stdout",
     "output_type": "stream",
     "text": [
      "Before dropping duplicates :  (768, 4)\n",
      "After dropping duplicates :  (56, 4)\n"
     ]
    }
   ],
   "source": [
    "print(\"Before dropping duplicates : \",DS_jobs_df.shape)\n",
    "DS_jobs_df.drop_duplicates(keep=\"first\",inplace=True)\n",
    "print(\"After dropping duplicates : \",DS_jobs_df.shape)"
   ]
  }
 ],
 "metadata": {
  "kernelspec": {
   "display_name": "Python 3",
   "language": "python",
   "name": "python3"
  },
  "language_info": {
   "codemirror_mode": {
    "name": "ipython",
    "version": 3
   },
   "file_extension": ".py",
   "mimetype": "text/x-python",
   "name": "python",
   "nbconvert_exporter": "python",
   "pygments_lexer": "ipython3",
   "version": "3.7.6"
  }
 },
 "nbformat": 4,
 "nbformat_minor": 4
}
