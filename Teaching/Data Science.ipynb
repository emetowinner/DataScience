{
 "cells": [
  {
   "cell_type": "markdown",
   "metadata": {},
   "source": [
    "## Learning List"
   ]
  },
  {
   "cell_type": "markdown",
   "metadata": {},
   "source": [
    "#### Task 1"
   ]
  },
  {
   "cell_type": "raw",
   "metadata": {},
   "source": [
    "1. Write a Python program to sum all the items in a list. \n",
    "2. Write a Python program to multiplies all the items in a list. \n",
    "3. Write a Python program to get the largest number from a list.\n",
    "4. Write a Python program to get the smallest number from a list.\n",
    "5. Write a Python program to count the number of strings where the string length is 2 or more and the first and last character are same from a given list of strings. \n",
    "Sample List : ['abc', 'xyz', 'aba', '1221']\n",
    "Expected Result : 2\n",
    "6. Write a Python program to get a list, sorted in increasing order by the last element in each tuple from a given list of non-empty tuples. \n",
    "Sample List : [(2, 5), (1, 2), (4, 4), (2, 3), (2, 1)]\n",
    "Expected Result : [(2, 1), (1, 2), (2, 3), (4, 4), (2, 5)]\n",
    "7. Write a Python program to remove duplicates from a list. \n",
    "8. Write a Python program to check a list is empty or not. \n",
    "9. Write a Python program to clone or copy a list. \n",
    "10. Write a Python program to find the list of words that are longer than n from a given list of words. "
   ]
  },
  {
   "cell_type": "markdown",
   "metadata": {},
   "source": [
    "#### Task 2"
   ]
  },
  {
   "cell_type": "raw",
   "metadata": {},
   "source": [
    "1. Write a Python function that takes two lists and returns True if they have at least one common member. \n",
    "2. Write a Python program to print a specified list after removing the 0th, 4th and 5th elements. \n",
    "Sample List : ['Red', 'Green', 'White', 'Black', 'Pink', 'Yellow']\n",
    "Expected Output : ['Green', 'White', 'Black']\n",
    "3. Write a Python program to generate a 3*4*6 3D array whose each element is *. \n",
    "4. Write a Python program to print the numbers of a specified list after removing even numbers from it. \n",
    "5. Write a Python program to shuffle and print a specified list. \n",
    "6. Write a Python program to generate and print a list of first and last 5 elements where the values are square of numbers between 1 and 30 (both included). \n",
    "7. Write a Python program to generate and print a list except for the first 5 elements, where the values are square of numbers between 1 and 30 (both included). \n",
    "8. Write a Python program to generate all permutations of a list in Python. \n",
    "9. Write a Python program to get the difference between the two lists. \n",
    "10. Write a Python program access the index of a list. "
   ]
  },
  {
   "cell_type": "code",
   "execution_count": 1,
   "metadata": {},
   "outputs": [
    {
     "name": "stdout",
     "output_type": "stream",
     "text": [
      "[[['*', '*', '*', '*', '*', '*'], ['*', '*', '*', '*', '*', '*'], ['*', '*', '*', '*', '*', '*'], ['*', '*', '*', '*', '*', '*']], [['*', '*', '*', '*', '*', '*'], ['*', '*', '*', '*', '*', '*'], ['*', '*', '*', '*', '*', '*'], ['*', '*', '*', '*', '*', '*']], [['*', '*', '*', '*', '*', '*'], ['*', '*', '*', '*', '*', '*'], ['*', '*', '*', '*', '*', '*'], ['*', '*', '*', '*', '*', '*']]]\n",
      "[(1, 2, 3), (1, 3, 2), (2, 1, 3), (2, 3, 1), (3, 1, 2), (3, 2, 1)]\n"
     ]
    }
   ],
   "source": [
    "array = [[ ['*' for col in range(6)] for col in range(4)] for row in range(3)]\n",
    "print(array)\n",
    "import itertools\n",
    "print(list(itertools.permutations([1,2,3])))"
   ]
  },
  {
   "cell_type": "code",
   "execution_count": null,
   "metadata": {},
   "outputs": [],
   "source": []
  }
 ],
 "metadata": {
  "kernelspec": {
   "display_name": "Python 3",
   "language": "python",
   "name": "python3"
  },
  "language_info": {
   "codemirror_mode": {
    "name": "ipython",
    "version": 3
   },
   "file_extension": ".py",
   "mimetype": "text/x-python",
   "name": "python",
   "nbconvert_exporter": "python",
   "pygments_lexer": "ipython3",
   "version": "3.7.6"
  }
 },
 "nbformat": 4,
 "nbformat_minor": 4
}
