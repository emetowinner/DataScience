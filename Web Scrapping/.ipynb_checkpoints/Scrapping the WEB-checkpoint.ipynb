{
 "cells": [
  {
   "cell_type": "code",
   "execution_count": 18,
   "metadata": {},
   "outputs": [],
   "source": [
    "import pandas as pd\n",
    "import numpy as np\n",
    "import matplotlib.pyplot as plt\n",
    "import seaborn as sns\n",
    "from urllib.request import urlopen\n",
    "from bs4 import BeautifulSoup\n",
    "%matplotlib inline"
   ]
  },
  {
   "cell_type": "markdown",
   "metadata": {},
   "source": [
    "## Module 1: Scrapping the WEB"
   ]
  },
  {
   "cell_type": "code",
   "execution_count": 20,
   "metadata": {},
   "outputs": [],
   "source": [
    "url = \"http://www.senat.fr/communiques/\"\n",
    "html = urlopen(url)"
   ]
  },
  {
   "cell_type": "code",
   "execution_count": 21,
   "metadata": {},
   "outputs": [
    {
     "data": {
      "text/plain": [
       "bs4.BeautifulSoup"
      ]
     },
     "execution_count": 21,
     "metadata": {},
     "output_type": "execute_result"
    }
   ],
   "source": [
    "soup = BeautifulSoup(html, 'lxml')\n",
    "type(soup)"
   ]
  },
  {
   "cell_type": "code",
   "execution_count": 22,
   "metadata": {},
   "outputs": [
    {
     "name": "stdout",
     "output_type": "stream",
     "text": [
      "<title>Sénat - Communiqués de presse</title>\n"
     ]
    }
   ],
   "source": [
    "# Get the title\n",
    "title = soup.title\n",
    "print(title)"
   ]
  },
  {
   "cell_type": "code",
   "execution_count": 1,
   "metadata": {},
   "outputs": [],
   "source": [
    "# Print out the text\n",
    "text = soup.get_text()\n",
    "print(soup.text)"
   ]
  },
  {
   "cell_type": "code",
   "execution_count": 24,
   "metadata": {},
   "outputs": [],
   "source": [
    "anchors = soup.find_all('a')\n",
    "all_links = []\n",
    "press_anchor_date_links = []\n",
    "press_links = []\n",
    "for links in anchors:\n",
    "    if \"presse\" in str(links):        \n",
    "        all_links.append(links.get(\"href\"))\n",
    "        press_anchor_date_links.append(str(links.get_text()))\n",
    "        press_links = []\n",
    "        for link in all_links:\n",
    "            press_links.append(\"http://www.senat.fr\"+str(link))\n",
    "all_links = np.array(all_links)\n",
    "#all_links"
   ]
  },
  {
   "cell_type": "code",
   "execution_count": 25,
   "metadata": {},
   "outputs": [
    {
     "data": {
      "text/html": [
       "<div>\n",
       "<style scoped>\n",
       "    .dataframe tbody tr th:only-of-type {\n",
       "        vertical-align: middle;\n",
       "    }\n",
       "\n",
       "    .dataframe tbody tr th {\n",
       "        vertical-align: top;\n",
       "    }\n",
       "\n",
       "    .dataframe thead th {\n",
       "        text-align: right;\n",
       "    }\n",
       "</style>\n",
       "<table border=\"1\" class=\"dataframe\">\n",
       "  <thead>\n",
       "    <tr style=\"text-align: right;\">\n",
       "      <th></th>\n",
       "      <th>Press Date</th>\n",
       "    </tr>\n",
       "  </thead>\n",
       "  <tbody>\n",
       "    <tr>\n",
       "      <th>0</th>\n",
       "      <td>Espace presse</td>\n",
       "    </tr>\n",
       "    <tr>\n",
       "      <th>1</th>\n",
       "      <td>2019</td>\n",
       "    </tr>\n",
       "    <tr>\n",
       "      <th>2</th>\n",
       "      <td>2018</td>\n",
       "    </tr>\n",
       "    <tr>\n",
       "      <th>3</th>\n",
       "      <td>2017</td>\n",
       "    </tr>\n",
       "    <tr>\n",
       "      <th>4</th>\n",
       "      <td>2016</td>\n",
       "    </tr>\n",
       "    <tr>\n",
       "      <th>...</th>\n",
       "      <td>...</td>\n",
       "    </tr>\n",
       "    <tr>\n",
       "      <th>301</th>\n",
       "      <td>08 janvier   2020</td>\n",
       "    </tr>\n",
       "    <tr>\n",
       "      <th>302</th>\n",
       "      <td>08 janvier   2020</td>\n",
       "    </tr>\n",
       "    <tr>\n",
       "      <th>303</th>\n",
       "      <td>08 janvier   2020</td>\n",
       "    </tr>\n",
       "    <tr>\n",
       "      <th>304</th>\n",
       "      <td>08 janvier   2020</td>\n",
       "    </tr>\n",
       "    <tr>\n",
       "      <th>305</th>\n",
       "      <td>Les communiqués de presse</td>\n",
       "    </tr>\n",
       "  </tbody>\n",
       "</table>\n",
       "<p>306 rows × 1 columns</p>\n",
       "</div>"
      ],
      "text/plain": [
       "                    Press Date\n",
       "0                Espace presse\n",
       "1                         2019\n",
       "2                         2018\n",
       "3                         2017\n",
       "4                         2016\n",
       "..                         ...\n",
       "301          08 janvier   2020\n",
       "302          08 janvier   2020\n",
       "303          08 janvier   2020\n",
       "304          08 janvier   2020\n",
       "305  Les communiqués de presse\n",
       "\n",
       "[306 rows x 1 columns]"
      ]
     },
     "execution_count": 25,
     "metadata": {},
     "output_type": "execute_result"
    }
   ],
   "source": [
    "df_date = pd.DataFrame(press_anchor_date_links,columns=[\"Press Date\"])\n",
    "df_date"
   ]
  },
  {
   "cell_type": "code",
   "execution_count": 26,
   "metadata": {},
   "outputs": [
    {
     "data": {
      "text/plain": [
       "0      http://www.senat.fr/espace_presse/index.html\n",
       "1       http://www.senat.fr/presse/communi2019.html\n",
       "2       http://www.senat.fr/presse/communi2018.html\n",
       "3       http://www.senat.fr/presse/communi2017.html\n",
       "4       http://www.senat.fr/presse/communi2016.html\n",
       "                           ...                     \n",
       "301     http://www.senat.fr/presse/cp20200108c.html\n",
       "302     http://www.senat.fr/presse/cp20200108b.html\n",
       "303     http://www.senat.fr/presse/cp20200108a.html\n",
       "304      http://www.senat.fr/presse/cp20200108.html\n",
       "305                            http://www.senat.fr#\n",
       "Name: Press Links, Length: 306, dtype: object"
      ]
     },
     "execution_count": 26,
     "metadata": {},
     "output_type": "execute_result"
    }
   ],
   "source": [
    "df_link = pd.DataFrame(press_links,columns=[\"Press Links\"])\n",
    "df_link[\"Press Links\"]"
   ]
  },
  {
   "cell_type": "code",
   "execution_count": 27,
   "metadata": {},
   "outputs": [
    {
     "data": {
      "text/html": [
       "<div>\n",
       "<style scoped>\n",
       "    .dataframe tbody tr th:only-of-type {\n",
       "        vertical-align: middle;\n",
       "    }\n",
       "\n",
       "    .dataframe tbody tr th {\n",
       "        vertical-align: top;\n",
       "    }\n",
       "\n",
       "    .dataframe thead th {\n",
       "        text-align: right;\n",
       "    }\n",
       "</style>\n",
       "<table border=\"1\" class=\"dataframe\">\n",
       "  <thead>\n",
       "    <tr style=\"text-align: right;\">\n",
       "      <th></th>\n",
       "      <th>Press Links</th>\n",
       "      <th>Press Date</th>\n",
       "    </tr>\n",
       "  </thead>\n",
       "  <tbody>\n",
       "    <tr>\n",
       "      <th>0</th>\n",
       "      <td>http://www.senat.fr/espace_presse/index.html</td>\n",
       "      <td>Espace presse</td>\n",
       "    </tr>\n",
       "    <tr>\n",
       "      <th>1</th>\n",
       "      <td>http://www.senat.fr/presse/communi2019.html</td>\n",
       "      <td>2019</td>\n",
       "    </tr>\n",
       "    <tr>\n",
       "      <th>2</th>\n",
       "      <td>http://www.senat.fr/presse/communi2018.html</td>\n",
       "      <td>2018</td>\n",
       "    </tr>\n",
       "    <tr>\n",
       "      <th>3</th>\n",
       "      <td>http://www.senat.fr/presse/communi2017.html</td>\n",
       "      <td>2017</td>\n",
       "    </tr>\n",
       "    <tr>\n",
       "      <th>4</th>\n",
       "      <td>http://www.senat.fr/presse/communi2016.html</td>\n",
       "      <td>2016</td>\n",
       "    </tr>\n",
       "    <tr>\n",
       "      <th>...</th>\n",
       "      <td>...</td>\n",
       "      <td>...</td>\n",
       "    </tr>\n",
       "    <tr>\n",
       "      <th>301</th>\n",
       "      <td>http://www.senat.fr/presse/cp20200108c.html</td>\n",
       "      <td>08 janvier   2020</td>\n",
       "    </tr>\n",
       "    <tr>\n",
       "      <th>302</th>\n",
       "      <td>http://www.senat.fr/presse/cp20200108b.html</td>\n",
       "      <td>08 janvier   2020</td>\n",
       "    </tr>\n",
       "    <tr>\n",
       "      <th>303</th>\n",
       "      <td>http://www.senat.fr/presse/cp20200108a.html</td>\n",
       "      <td>08 janvier   2020</td>\n",
       "    </tr>\n",
       "    <tr>\n",
       "      <th>304</th>\n",
       "      <td>http://www.senat.fr/presse/cp20200108.html</td>\n",
       "      <td>08 janvier   2020</td>\n",
       "    </tr>\n",
       "    <tr>\n",
       "      <th>305</th>\n",
       "      <td>http://www.senat.fr#</td>\n",
       "      <td>Les communiqués de presse</td>\n",
       "    </tr>\n",
       "  </tbody>\n",
       "</table>\n",
       "<p>306 rows × 2 columns</p>\n",
       "</div>"
      ],
      "text/plain": [
       "                                      Press Links                 Press Date\n",
       "0    http://www.senat.fr/espace_presse/index.html              Espace presse\n",
       "1     http://www.senat.fr/presse/communi2019.html                       2019\n",
       "2     http://www.senat.fr/presse/communi2018.html                       2018\n",
       "3     http://www.senat.fr/presse/communi2017.html                       2017\n",
       "4     http://www.senat.fr/presse/communi2016.html                       2016\n",
       "..                                            ...                        ...\n",
       "301   http://www.senat.fr/presse/cp20200108c.html          08 janvier   2020\n",
       "302   http://www.senat.fr/presse/cp20200108b.html          08 janvier   2020\n",
       "303   http://www.senat.fr/presse/cp20200108a.html          08 janvier   2020\n",
       "304    http://www.senat.fr/presse/cp20200108.html          08 janvier   2020\n",
       "305                          http://www.senat.fr#  Les communiqués de presse\n",
       "\n",
       "[306 rows x 2 columns]"
      ]
     },
     "execution_count": 27,
     "metadata": {},
     "output_type": "execute_result"
    }
   ],
   "source": [
    "press_data = pd.concat([df_link, df_date], axis = 1)\n",
    "press_data"
   ]
  },
  {
   "cell_type": "markdown",
   "metadata": {},
   "source": [
    "## Module 2: Importing data into a NoSQL database (MongoDB)"
   ]
  },
  {
   "cell_type": "code",
   "execution_count": 48,
   "metadata": {},
   "outputs": [
    {
     "name": "stdout",
     "output_type": "stream",
     "text": [
      "Done!\n"
     ]
    }
   ],
   "source": [
    "from pymongo import MongoClient\n",
    "from random import randint\n",
    "#Step 1: Connect to MongoDB - Note: Change connection string as needed to reflect your own connection string\n",
    "client = MongoClient(\"mongodb+srv://<<username>>:<<password>>@cluster0-6jkfh.mongodb.net/<<DataBase>>?retryWrites=true&w=majority\")\n",
    "db=client.pressData\n",
    "#Step 2: Create sample data\n",
    "df = pd.DataFrame({\"Press Date\":np.array(press_data['Press Date']),\"Press Link\":np.array(press_data['Press Links'])},index=press_data['Press Date'])\n",
    "\n",
    "# press_data.set_index('Press Date',inplace=True)\n",
    "data_dict = df.to_dict(\"records\")\n",
    "data_dict\n",
    "\n",
    "#Step 3: Insert business object directly into MongoDB via isnert_one\n",
    "result=db.reviews.insert_many(data_dict)\n",
    "print(\"Done!\")"
   ]
  },
  {
   "cell_type": "code",
   "execution_count": null,
   "metadata": {},
   "outputs": [],
   "source": []
  }
 ],
 "metadata": {
  "kernelspec": {
   "display_name": "Python 3",
   "language": "python",
   "name": "python3"
  },
  "language_info": {
   "codemirror_mode": {
    "name": "ipython",
    "version": 3
   },
   "file_extension": ".py",
   "mimetype": "text/x-python",
   "name": "python",
   "nbconvert_exporter": "python",
   "pygments_lexer": "ipython3",
   "version": "3.7.6"
  }
 },
 "nbformat": 4,
 "nbformat_minor": 4
}
