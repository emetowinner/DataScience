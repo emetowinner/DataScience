{
 "cells": [
  {
   "cell_type": "code",
   "execution_count": 58,
   "metadata": {},
   "outputs": [],
   "source": [
    "import pandas as pd\n",
    "import numpy as np\n",
    "from sklearn.model_selection import train_test_split\n",
    "from sklearn.ensemble import RandomForestRegressor\n",
    "from sklearn.preprocessing import LabelEncoder\n",
    "from sklearn.metrics import explained_variance_score,r2_score,f1_score"
   ]
  },
  {
   "cell_type": "code",
   "execution_count": 59,
   "metadata": {},
   "outputs": [
    {
     "name": "stdout",
     "output_type": "stream",
     "text": [
      "File does not exist yet..\n",
      "Reading Sheet1 to a DataFrame....\n",
      "\n",
      "Saved Sheet1 as a CSV file with the name Brownfield_Real_Data.csv\n"
     ]
    }
   ],
   "source": [
    "# Using the pandas Excel class to raed the excel file load the excel file\n",
    "data_set = pd.ExcelFile('Brownfield_Data.xlsx')\n",
    "sheet = 0  # Sheet counter\n",
    "\n",
    "#Seperating the sheets and saving them as CSV file\n",
    "try:\n",
    "    brownfield_data = pd.read_csv(\"Brownfield_Real_Data.csv\")\n",
    "    brownfield_data\n",
    "except:\n",
    "    print(\"File does not exist yet..\")\n",
    "    print(f'Reading {data_set.sheet_names[sheet]} to a DataFrame....')\n",
    "    for sheet_name in data_set.sheet_names:\n",
    "        if sheet <= len(data_set.sheet_names):\n",
    "            df = pd.read_excel(data_set, sheet_name)\n",
    "            if sheet == 0:\n",
    "                name = 'Brownfield_Real_Data.csv'\n",
    "                df.to_csv(name)\n",
    "                print()\n",
    "                print(\n",
    "                    f'Saved {data_set.sheet_names[sheet]} as a CSV file with the name {name}')\n",
    "            else:\n",
    "                pass\n",
    "            sheet += 1"
   ]
  },
  {
   "cell_type": "code",
   "execution_count": 60,
   "metadata": {},
   "outputs": [],
   "source": [
    "#Selecting the feature and target dataset\n",
    "X = brownfield_data[[\"Time(days)\",\"Water Rate(STB/day)\",\"Water Cut fraction\"]]\n",
    "Y = brownfield_data[\"Oil Rate (STB/day)\"]"
   ]
  },
  {
   "cell_type": "code",
   "execution_count": 61,
   "metadata": {},
   "outputs": [
    {
     "data": {
      "text/plain": [
       "RandomForestRegressor(bootstrap=True, ccp_alpha=0.0, criterion='mse',\n",
       "                      max_depth=None, max_features='auto', max_leaf_nodes=None,\n",
       "                      max_samples=None, min_impurity_decrease=0.0,\n",
       "                      min_impurity_split=None, min_samples_leaf=1,\n",
       "                      min_samples_split=2, min_weight_fraction_leaf=0.0,\n",
       "                      n_estimators=11, n_jobs=None, oob_score=False,\n",
       "                      random_state=0, verbose=0, warm_start=False)"
      ]
     },
     "execution_count": 61,
     "metadata": {},
     "output_type": "execute_result"
    }
   ],
   "source": [
    "# Split dataset into train and test set\n",
    "X_train, X_test, Y_train, Y_test = train_test_split(X,Y,test_size=0.30,random_state=0)\n",
    "\n",
    "#Create the Random Forest model and fitting the data\n",
    "classifier  = RandomForestRegressor(n_estimators=11,random_state=0)\n",
    "classifier.fit(X_train, Y_train)"
   ]
  },
  {
   "cell_type": "code",
   "execution_count": 62,
   "metadata": {},
   "outputs": [
    {
     "data": {
      "text/plain": [
       "array([194.52727273, 298.21818182, 273.02727273, 284.57272727,\n",
       "       576.58181818, 194.52727273, 298.21818182])"
      ]
     },
     "execution_count": 62,
     "metadata": {},
     "output_type": "execute_result"
    }
   ],
   "source": [
    "# Predicting Test set results\n",
    "Y_pred = classifier.predict(X_test)\n",
    "Y_pred"
   ]
  },
  {
   "cell_type": "code",
   "execution_count": 63,
   "metadata": {},
   "outputs": [
    {
     "name": "stdout",
     "output_type": "stream",
     "text": [
      "The accurancy score is:99.29686757408055%\n",
      "The R2 accurancy score is:99.28309977732752%\n"
     ]
    }
   ],
   "source": [
    "#Calculating and printing the model accuracy\n",
    "print(f'The accurancy score is:{explained_variance_score(Y_test, Y_pred)*100}%')\n",
    "print(f'The R2 accurancy score is:{r2_score(Y_test, Y_pred)*100}%')"
   ]
  },
  {
   "cell_type": "code",
   "execution_count": 64,
   "metadata": {},
   "outputs": [
    {
     "data": {
      "text/plain": [
       "<matplotlib.axes._subplots.AxesSubplot at 0x3c01cfdc8>"
      ]
     },
     "execution_count": 64,
     "metadata": {},
     "output_type": "execute_result"
    },
    {
     "data": {
      "image/png": "[encoded data removed]",
      "text/plain": [
       "<Figure size 432x288 with 1 Axes>"
      ]
     },
     "metadata": {
      "needs_background": "light"
     },
     "output_type": "display_data"
    }
   ],
   "source": [
    "feat_importances = pd.Series(classifier.feature_importances_, index=X.columns)\n",
    "feat_importances = feat_importances.nlargest(20)\n",
    "feat_importances.plot(kind='barh')"
   ]
  },
  {
   "cell_type": "code",
   "execution_count": 65,
   "metadata": {},
   "outputs": [
    {
     "data": {
      "text/html": [
       "<div>\n",
       "<style scoped>\n",
       "    .dataframe tbody tr th:only-of-type {\n",
       "        vertical-align: middle;\n",
       "    }\n",
       "\n",
       "    .dataframe tbody tr th {\n",
       "        vertical-align: top;\n",
       "    }\n",
       "\n",
       "    .dataframe thead th {\n",
       "        text-align: right;\n",
       "    }\n",
       "</style>\n",
       "<table border=\"1\" class=\"dataframe\">\n",
       "  <thead>\n",
       "    <tr style=\"text-align: right;\">\n",
       "      <th></th>\n",
       "      <th>Time(days)</th>\n",
       "      <th>Water Rate(STB/day)</th>\n",
       "      <th>Water Cut fraction</th>\n",
       "      <th>Actual Oil Rate (STB/day)</th>\n",
       "      <th>Predicted Oil Rate (STB/day)</th>\n",
       "    </tr>\n",
       "  </thead>\n",
       "  <tbody>\n",
       "    <tr>\n",
       "      <th>20</th>\n",
       "      <td>3635</td>\n",
       "      <td>814.8</td>\n",
       "      <td>0.815</td>\n",
       "      <td>185.2</td>\n",
       "      <td>194.527273</td>\n",
       "    </tr>\n",
       "    <tr>\n",
       "      <th>10</th>\n",
       "      <td>1835</td>\n",
       "      <td>711.2</td>\n",
       "      <td>0.711</td>\n",
       "      <td>288.8</td>\n",
       "      <td>298.218182</td>\n",
       "    </tr>\n",
       "    <tr>\n",
       "      <th>14</th>\n",
       "      <td>1895</td>\n",
       "      <td>716.2</td>\n",
       "      <td>0.716</td>\n",
       "      <td>283.8</td>\n",
       "      <td>273.027273</td>\n",
       "    </tr>\n",
       "    <tr>\n",
       "      <th>13</th>\n",
       "      <td>1880</td>\n",
       "      <td>714.9</td>\n",
       "      <td>0.715</td>\n",
       "      <td>285.1</td>\n",
       "      <td>284.572727</td>\n",
       "    </tr>\n",
       "    <tr>\n",
       "      <th>1</th>\n",
       "      <td>95</td>\n",
       "      <td>405.8</td>\n",
       "      <td>0.406</td>\n",
       "      <td>594.2</td>\n",
       "      <td>576.581818</td>\n",
       "    </tr>\n",
       "    <tr>\n",
       "      <th>21</th>\n",
       "      <td>3650</td>\n",
       "      <td>815.4</td>\n",
       "      <td>0.815</td>\n",
       "      <td>184.6</td>\n",
       "      <td>194.527273</td>\n",
       "    </tr>\n",
       "    <tr>\n",
       "      <th>11</th>\n",
       "      <td>1850</td>\n",
       "      <td>712.5</td>\n",
       "      <td>0.712</td>\n",
       "      <td>287.5</td>\n",
       "      <td>298.218182</td>\n",
       "    </tr>\n",
       "  </tbody>\n",
       "</table>\n",
       "</div>"
      ],
      "text/plain": [
       "    Time(days)  Water Rate(STB/day)  Water Cut fraction  \\\n",
       "20        3635                814.8               0.815   \n",
       "10        1835                711.2               0.711   \n",
       "14        1895                716.2               0.716   \n",
       "13        1880                714.9               0.715   \n",
       "1           95                405.8               0.406   \n",
       "21        3650                815.4               0.815   \n",
       "11        1850                712.5               0.712   \n",
       "\n",
       "    Actual Oil Rate (STB/day)  Predicted Oil Rate (STB/day)  \n",
       "20                      185.2                    194.527273  \n",
       "10                      288.8                    298.218182  \n",
       "14                      283.8                    273.027273  \n",
       "13                      285.1                    284.572727  \n",
       "1                       594.2                    576.581818  \n",
       "21                      184.6                    194.527273  \n",
       "11                      287.5                    298.218182  "
      ]
     },
     "execution_count": 65,
     "metadata": {},
     "output_type": "execute_result"
    }
   ],
   "source": [
    "#Reselecting the feature and target dataset in order to predict condition\n",
    "X1 = brownfield_data[[\"Time(days)\",\"Water Rate(STB/day)\",\"Water Cut fraction\"]]\n",
    "Y1 = brownfield_data[\"Oil Rate (STB/day)\"]\n",
    "\n",
    "# Split dataset into train and test set\n",
    "X_train1, X_test1, Y_train1, Y_test1 = train_test_split(X1,Y1,test_size=0.30,random_state=0)\n",
    "\n",
    "condition = pd.DataFrame(X_test1)\n",
    "condition[\"Actual Oil Rate (STB/day)\"]  = Y_test1\n",
    "condition[\"Predicted Oil Rate (STB/day)\"] = Y_pred\n",
    "condition"
   ]
  },
  {
   "cell_type": "code",
   "execution_count": 66,
   "metadata": {},
   "outputs": [
    {
     "data": {
      "text/html": [
       "<div>\n",
       "<style scoped>\n",
       "    .dataframe tbody tr th:only-of-type {\n",
       "        vertical-align: middle;\n",
       "    }\n",
       "\n",
       "    .dataframe tbody tr th {\n",
       "        vertical-align: top;\n",
       "    }\n",
       "\n",
       "    .dataframe thead th {\n",
       "        text-align: right;\n",
       "    }\n",
       "</style>\n",
       "<table border=\"1\" class=\"dataframe\">\n",
       "  <thead>\n",
       "    <tr style=\"text-align: right;\">\n",
       "      <th></th>\n",
       "      <th>Time(days)</th>\n",
       "      <th>Water Rate(STB/day)</th>\n",
       "      <th>Water Cut fraction</th>\n",
       "      <th>Actual Oil Rate (STB/day)</th>\n",
       "      <th>Predicted Oil Rate (STB/day)</th>\n",
       "      <th>Condition</th>\n",
       "    </tr>\n",
       "  </thead>\n",
       "  <tbody>\n",
       "    <tr>\n",
       "      <th>20</th>\n",
       "      <td>3635</td>\n",
       "      <td>814.8</td>\n",
       "      <td>0.815</td>\n",
       "      <td>185.2</td>\n",
       "      <td>194.527273</td>\n",
       "      <td>Not economical to produce</td>\n",
       "    </tr>\n",
       "    <tr>\n",
       "      <th>10</th>\n",
       "      <td>1835</td>\n",
       "      <td>711.2</td>\n",
       "      <td>0.711</td>\n",
       "      <td>288.8</td>\n",
       "      <td>298.218182</td>\n",
       "      <td>Not economical to produce</td>\n",
       "    </tr>\n",
       "    <tr>\n",
       "      <th>14</th>\n",
       "      <td>1895</td>\n",
       "      <td>716.2</td>\n",
       "      <td>0.716</td>\n",
       "      <td>283.8</td>\n",
       "      <td>273.027273</td>\n",
       "      <td>Not economical to produce</td>\n",
       "    </tr>\n",
       "    <tr>\n",
       "      <th>13</th>\n",
       "      <td>1880</td>\n",
       "      <td>714.9</td>\n",
       "      <td>0.715</td>\n",
       "      <td>285.1</td>\n",
       "      <td>284.572727</td>\n",
       "      <td>Not economical to produce</td>\n",
       "    </tr>\n",
       "    <tr>\n",
       "      <th>1</th>\n",
       "      <td>95</td>\n",
       "      <td>405.8</td>\n",
       "      <td>0.406</td>\n",
       "      <td>594.2</td>\n",
       "      <td>576.581818</td>\n",
       "      <td>Highly economical to produce</td>\n",
       "    </tr>\n",
       "    <tr>\n",
       "      <th>21</th>\n",
       "      <td>3650</td>\n",
       "      <td>815.4</td>\n",
       "      <td>0.815</td>\n",
       "      <td>184.6</td>\n",
       "      <td>194.527273</td>\n",
       "      <td>Not economical to produce</td>\n",
       "    </tr>\n",
       "    <tr>\n",
       "      <th>11</th>\n",
       "      <td>1850</td>\n",
       "      <td>712.5</td>\n",
       "      <td>0.712</td>\n",
       "      <td>287.5</td>\n",
       "      <td>298.218182</td>\n",
       "      <td>Not economical to produce</td>\n",
       "    </tr>\n",
       "  </tbody>\n",
       "</table>\n",
       "</div>"
      ],
      "text/plain": [
       "    Time(days)  Water Rate(STB/day)  Water Cut fraction  \\\n",
       "20        3635                814.8               0.815   \n",
       "10        1835                711.2               0.711   \n",
       "14        1895                716.2               0.716   \n",
       "13        1880                714.9               0.715   \n",
       "1           95                405.8               0.406   \n",
       "21        3650                815.4               0.815   \n",
       "11        1850                712.5               0.712   \n",
       "\n",
       "    Actual Oil Rate (STB/day)  Predicted Oil Rate (STB/day)  \\\n",
       "20                      185.2                    194.527273   \n",
       "10                      288.8                    298.218182   \n",
       "14                      283.8                    273.027273   \n",
       "13                      285.1                    284.572727   \n",
       "1                       594.2                    576.581818   \n",
       "21                      184.6                    194.527273   \n",
       "11                      287.5                    298.218182   \n",
       "\n",
       "                       Condition  \n",
       "20     Not economical to produce  \n",
       "10     Not economical to produce  \n",
       "14     Not economical to produce  \n",
       "13     Not economical to produce  \n",
       "1   Highly economical to produce  \n",
       "21     Not economical to produce  \n",
       "11     Not economical to produce  "
      ]
     },
     "execution_count": 66,
     "metadata": {},
     "output_type": "execute_result"
    }
   ],
   "source": [
    "# Predicting condition for oil production\n",
    "Y_pred_avg = Y_pred.max()-Y_pred.min()\n",
    "condition.loc[condition[\"Predicted Oil Rate (STB/day)\"] < Y_pred.mean(), \"Condition\"] = \"Not economical to produce\"\n",
    "condition.loc[condition[\"Predicted Oil Rate (STB/day)\"] >= Y_pred.mean(), \"Condition\"] = \"Less economical to produce\"\n",
    "condition.loc[condition[\"Predicted Oil Rate (STB/day)\"] >= Y_pred_avg, \"Condition\"] = \"Highly economical to produce\" \n",
    "condition"
   ]
  },
  {
   "cell_type": "code",
   "execution_count": null,
   "metadata": {},
   "outputs": [],
   "source": []
  }
 ],
 "metadata": {
  "kernelspec": {
   "display_name": "Python 3",
   "language": "python",
   "name": "python3"
  },
  "language_info": {
   "codemirror_mode": {
    "name": "ipython",
    "version": 3
   },
   "file_extension": ".py",
   "mimetype": "text/x-python",
   "name": "python",
   "nbconvert_exporter": "python",
   "pygments_lexer": "ipython3",
   "version": "3.7.6"
  }
 },
 "nbformat": 4,
 "nbformat_minor": 4
}
